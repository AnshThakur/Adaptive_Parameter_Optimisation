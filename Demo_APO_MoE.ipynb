{
 "cells": [
  {
   "cell_type": "code",
   "execution_count": 1,
   "metadata": {},
   "outputs": [],
   "source": [
    "import torch\n",
    "from models import MultiTaskCNN,ModSquadCNN\n",
    "from optimisers_APO import AdaptiveProtectiveOptimizer\n",
    "from utils import *\n",
    "import random\n",
    "import numpy as np\n",
    "import pandas as pd\n",
    "import copy \n",
    "\n",
    "random.seed(20)\n",
    "torch.manual_seed(20)\n",
    "np.random.seed(20)"
   ]
  },
  {
   "cell_type": "code",
   "execution_count": 2,
   "metadata": {},
   "outputs": [],
   "source": [
    "# Hyperparameters\n",
    "batch_size = 256\n",
    "epochs = 20\n",
    "device = torch.device('cuda' if torch.cuda.is_available() else 'cpu')"
   ]
  },
  {
   "cell_type": "code",
   "execution_count": 3,
   "metadata": {},
   "outputs": [],
   "source": [
    "# Load datasets\n",
    "train_loaders, val_loaders, test_loaders = get_all_loaders(batch_size=batch_size)"
   ]
  },
  {
   "cell_type": "code",
   "execution_count": 4,
   "metadata": {},
   "outputs": [],
   "source": [
    "# Initialize model\n",
    "output_sizes = [10, 10,10]  # MNIST and Fashion-MNIST both have 10 classes\n",
    "model = ModSquadCNN(output_sizes,num_experts=8,k=6).to(device)\n",
    "task_specific_layer_names = [\"task_layers.0.weight\", \"task_layers.0.bias\",\n",
    "                             \"task_layers.1.weight\", \"task_layers.1.bias\", \n",
    "                             \"task_layers.2.weight\", \"task_layers.2.bias\"]\n",
    "\n",
    "# Initialize the optimizer, passing in the model and the task-specific layer names\n",
    "optimizer = AdaptiveProtectiveOptimizer(model, task_specific_layer_names, 3, lr=0.01)\n",
    "criterion = torch.nn.CrossEntropyLoss()"
   ]
  },
  {
   "cell_type": "code",
   "execution_count": 5,
   "metadata": {},
   "outputs": [],
   "source": [
    "def update_task_priority(task_losses):\n",
    "    sorted_tasks = sorted(range(len(task_losses)), key=lambda k: task_losses[k], reverse=True)\n",
    "    return sorted_tasks\n"
   ]
  },
  {
   "cell_type": "code",
   "execution_count": 6,
   "metadata": {},
   "outputs": [],
   "source": [
    "def validate_model(model, val_loaders):\n",
    "    model.eval()\n",
    "    total_correct = {task_id: 0 for task_id in range(len(val_loaders))}\n",
    "    total_samples = {task_id: 0 for task_id in range(len(val_loaders))}\n",
    "    \n",
    "    with torch.no_grad():\n",
    "        for task_id, dataloader in enumerate(val_loaders):\n",
    "            for inputs, targets in dataloader:\n",
    "                inputs, targets = inputs.to(device), targets.to(device)\n",
    "                outputs = model(inputs, task_id)\n",
    "                _, preds = torch.max(outputs, 1)\n",
    "                total_correct[task_id] += (preds == targets).sum().item()\n",
    "                total_samples[task_id] += targets.size(0)\n",
    "\n",
    "    val_accuracies = {task_id: (100 * total_correct[task_id] / total_samples[task_id])\n",
    "                      for task_id in total_correct}\n",
    "    return val_accuracies"
   ]
  },
  {
   "cell_type": "code",
   "execution_count": 7,
   "metadata": {},
   "outputs": [
    {
     "name": "stdout",
     "output_type": "stream",
     "text": [
      "Epoch [1/20], Task Name [MNIST], Loss: 2.293 Val ACC: 37.19 Task-related: 15.92%, Protected: 0.00%, Unclaimed: 84.08%\n",
      "Epoch [1/20], Task Name [FashionMNIST], Loss: 2.275 Val ACC: 23.81 Task-related: 16.44%, Protected: 15.92%, Unclaimed: 67.64%\n",
      "Epoch [1/20], Task Name [KMNIST], Loss: 2.232 Val ACC: 43.68 Task-related: 10.27%, Protected: 32.36%, Unclaimed: 57.37%\n",
      "-----------------------------------\n",
      "Task 0 Accuracy: 26.23%\n"
     ]
    },
    {
     "ename": "KeyboardInterrupt",
     "evalue": "",
     "output_type": "error",
     "traceback": [
      "\u001b[0;31m---------------------------------------------------------------------------\u001b[0m",
      "\u001b[0;31mKeyboardInterrupt\u001b[0m                         Traceback (most recent call last)",
      "Cell \u001b[0;32mIn[7], line 73\u001b[0m\n\u001b[1;32m     71\u001b[0m \u001b[39m# Validation step\u001b[39;00m\n\u001b[1;32m     72\u001b[0m \u001b[39mprint\u001b[39m(\u001b[39m'\u001b[39m\u001b[39m-----------------------------------\u001b[39m\u001b[39m'\u001b[39m)\n\u001b[0;32m---> 73\u001b[0m avg_val_accuracy\u001b[39m=\u001b[39mevaluate_model_avg(model, val_loaders,sorted_task_ids)\n\u001b[1;32m     76\u001b[0m \u001b[39m# Save the best model based on validation accuracy\u001b[39;00m\n\u001b[1;32m     77\u001b[0m \u001b[39mif\u001b[39;00m avg_val_accuracy \u001b[39m>\u001b[39m best_val_accuracy:\n",
      "File \u001b[0;32m~/Documents/GitHub/APO_Github/utils.py:91\u001b[0m, in \u001b[0;36mevaluate_model_avg\u001b[0;34m(model, data_loaders, task_ids)\u001b[0m\n\u001b[1;32m     88\u001b[0m task_correct \u001b[39m=\u001b[39m \u001b[39m0\u001b[39m\n\u001b[1;32m     89\u001b[0m task_samples \u001b[39m=\u001b[39m \u001b[39m0\u001b[39m\n\u001b[0;32m---> 91\u001b[0m \u001b[39mfor\u001b[39;00m inputs, labels \u001b[39min\u001b[39;00m data_loader:\n\u001b[1;32m     92\u001b[0m     inputs, labels \u001b[39m=\u001b[39m inputs\u001b[39m.\u001b[39mto(device), labels\u001b[39m.\u001b[39mto(device)\n\u001b[1;32m     93\u001b[0m     outputs \u001b[39m=\u001b[39m model(inputs, \u001b[39mid\u001b[39m)\n",
      "File \u001b[0;32m~/anaconda3/envs/graph/lib/python3.8/site-packages/torch/utils/data/dataloader.py:633\u001b[0m, in \u001b[0;36m_BaseDataLoaderIter.__next__\u001b[0;34m(self)\u001b[0m\n\u001b[1;32m    630\u001b[0m \u001b[39mif\u001b[39;00m \u001b[39mself\u001b[39m\u001b[39m.\u001b[39m_sampler_iter \u001b[39mis\u001b[39;00m \u001b[39mNone\u001b[39;00m:\n\u001b[1;32m    631\u001b[0m     \u001b[39m# TODO(https://github.com/pytorch/pytorch/issues/76750)\u001b[39;00m\n\u001b[1;32m    632\u001b[0m     \u001b[39mself\u001b[39m\u001b[39m.\u001b[39m_reset()  \u001b[39m# type: ignore[call-arg]\u001b[39;00m\n\u001b[0;32m--> 633\u001b[0m data \u001b[39m=\u001b[39m \u001b[39mself\u001b[39;49m\u001b[39m.\u001b[39;49m_next_data()\n\u001b[1;32m    634\u001b[0m \u001b[39mself\u001b[39m\u001b[39m.\u001b[39m_num_yielded \u001b[39m+\u001b[39m\u001b[39m=\u001b[39m \u001b[39m1\u001b[39m\n\u001b[1;32m    635\u001b[0m \u001b[39mif\u001b[39;00m \u001b[39mself\u001b[39m\u001b[39m.\u001b[39m_dataset_kind \u001b[39m==\u001b[39m _DatasetKind\u001b[39m.\u001b[39mIterable \u001b[39mand\u001b[39;00m \\\n\u001b[1;32m    636\u001b[0m         \u001b[39mself\u001b[39m\u001b[39m.\u001b[39m_IterableDataset_len_called \u001b[39mis\u001b[39;00m \u001b[39mnot\u001b[39;00m \u001b[39mNone\u001b[39;00m \u001b[39mand\u001b[39;00m \\\n\u001b[1;32m    637\u001b[0m         \u001b[39mself\u001b[39m\u001b[39m.\u001b[39m_num_yielded \u001b[39m>\u001b[39m \u001b[39mself\u001b[39m\u001b[39m.\u001b[39m_IterableDataset_len_called:\n",
      "File \u001b[0;32m~/anaconda3/envs/graph/lib/python3.8/site-packages/torch/utils/data/dataloader.py:677\u001b[0m, in \u001b[0;36m_SingleProcessDataLoaderIter._next_data\u001b[0;34m(self)\u001b[0m\n\u001b[1;32m    675\u001b[0m \u001b[39mdef\u001b[39;00m \u001b[39m_next_data\u001b[39m(\u001b[39mself\u001b[39m):\n\u001b[1;32m    676\u001b[0m     index \u001b[39m=\u001b[39m \u001b[39mself\u001b[39m\u001b[39m.\u001b[39m_next_index()  \u001b[39m# may raise StopIteration\u001b[39;00m\n\u001b[0;32m--> 677\u001b[0m     data \u001b[39m=\u001b[39m \u001b[39mself\u001b[39;49m\u001b[39m.\u001b[39;49m_dataset_fetcher\u001b[39m.\u001b[39;49mfetch(index)  \u001b[39m# may raise StopIteration\u001b[39;00m\n\u001b[1;32m    678\u001b[0m     \u001b[39mif\u001b[39;00m \u001b[39mself\u001b[39m\u001b[39m.\u001b[39m_pin_memory:\n\u001b[1;32m    679\u001b[0m         data \u001b[39m=\u001b[39m _utils\u001b[39m.\u001b[39mpin_memory\u001b[39m.\u001b[39mpin_memory(data, \u001b[39mself\u001b[39m\u001b[39m.\u001b[39m_pin_memory_device)\n",
      "File \u001b[0;32m~/anaconda3/envs/graph/lib/python3.8/site-packages/torch/utils/data/_utils/fetch.py:51\u001b[0m, in \u001b[0;36m_MapDatasetFetcher.fetch\u001b[0;34m(self, possibly_batched_index)\u001b[0m\n\u001b[1;32m     49\u001b[0m         data \u001b[39m=\u001b[39m \u001b[39mself\u001b[39m\u001b[39m.\u001b[39mdataset\u001b[39m.\u001b[39m__getitems__(possibly_batched_index)\n\u001b[1;32m     50\u001b[0m     \u001b[39melse\u001b[39;00m:\n\u001b[0;32m---> 51\u001b[0m         data \u001b[39m=\u001b[39m [\u001b[39mself\u001b[39m\u001b[39m.\u001b[39mdataset[idx] \u001b[39mfor\u001b[39;00m idx \u001b[39min\u001b[39;00m possibly_batched_index]\n\u001b[1;32m     52\u001b[0m \u001b[39melse\u001b[39;00m:\n\u001b[1;32m     53\u001b[0m     data \u001b[39m=\u001b[39m \u001b[39mself\u001b[39m\u001b[39m.\u001b[39mdataset[possibly_batched_index]\n",
      "File \u001b[0;32m~/anaconda3/envs/graph/lib/python3.8/site-packages/torch/utils/data/_utils/fetch.py:51\u001b[0m, in \u001b[0;36m<listcomp>\u001b[0;34m(.0)\u001b[0m\n\u001b[1;32m     49\u001b[0m         data \u001b[39m=\u001b[39m \u001b[39mself\u001b[39m\u001b[39m.\u001b[39mdataset\u001b[39m.\u001b[39m__getitems__(possibly_batched_index)\n\u001b[1;32m     50\u001b[0m     \u001b[39melse\u001b[39;00m:\n\u001b[0;32m---> 51\u001b[0m         data \u001b[39m=\u001b[39m [\u001b[39mself\u001b[39;49m\u001b[39m.\u001b[39;49mdataset[idx] \u001b[39mfor\u001b[39;00m idx \u001b[39min\u001b[39;00m possibly_batched_index]\n\u001b[1;32m     52\u001b[0m \u001b[39melse\u001b[39;00m:\n\u001b[1;32m     53\u001b[0m     data \u001b[39m=\u001b[39m \u001b[39mself\u001b[39m\u001b[39m.\u001b[39mdataset[possibly_batched_index]\n",
      "File \u001b[0;32m~/anaconda3/envs/graph/lib/python3.8/site-packages/torch/utils/data/dataset.py:298\u001b[0m, in \u001b[0;36mSubset.__getitem__\u001b[0;34m(self, idx)\u001b[0m\n\u001b[1;32m    296\u001b[0m \u001b[39mif\u001b[39;00m \u001b[39misinstance\u001b[39m(idx, \u001b[39mlist\u001b[39m):\n\u001b[1;32m    297\u001b[0m     \u001b[39mreturn\u001b[39;00m \u001b[39mself\u001b[39m\u001b[39m.\u001b[39mdataset[[\u001b[39mself\u001b[39m\u001b[39m.\u001b[39mindices[i] \u001b[39mfor\u001b[39;00m i \u001b[39min\u001b[39;00m idx]]\n\u001b[0;32m--> 298\u001b[0m \u001b[39mreturn\u001b[39;00m \u001b[39mself\u001b[39;49m\u001b[39m.\u001b[39;49mdataset[\u001b[39mself\u001b[39;49m\u001b[39m.\u001b[39;49mindices[idx]]\n",
      "File \u001b[0;32m~/anaconda3/envs/graph/lib/python3.8/site-packages/torchvision/datasets/mnist.py:145\u001b[0m, in \u001b[0;36mMNIST.__getitem__\u001b[0;34m(self, index)\u001b[0m\n\u001b[1;32m    142\u001b[0m img \u001b[39m=\u001b[39m Image\u001b[39m.\u001b[39mfromarray(img\u001b[39m.\u001b[39mnumpy(), mode\u001b[39m=\u001b[39m\u001b[39m\"\u001b[39m\u001b[39mL\u001b[39m\u001b[39m\"\u001b[39m)\n\u001b[1;32m    144\u001b[0m \u001b[39mif\u001b[39;00m \u001b[39mself\u001b[39m\u001b[39m.\u001b[39mtransform \u001b[39mis\u001b[39;00m \u001b[39mnot\u001b[39;00m \u001b[39mNone\u001b[39;00m:\n\u001b[0;32m--> 145\u001b[0m     img \u001b[39m=\u001b[39m \u001b[39mself\u001b[39;49m\u001b[39m.\u001b[39;49mtransform(img)\n\u001b[1;32m    147\u001b[0m \u001b[39mif\u001b[39;00m \u001b[39mself\u001b[39m\u001b[39m.\u001b[39mtarget_transform \u001b[39mis\u001b[39;00m \u001b[39mnot\u001b[39;00m \u001b[39mNone\u001b[39;00m:\n\u001b[1;32m    148\u001b[0m     target \u001b[39m=\u001b[39m \u001b[39mself\u001b[39m\u001b[39m.\u001b[39mtarget_transform(target)\n",
      "File \u001b[0;32m~/anaconda3/envs/graph/lib/python3.8/site-packages/torchvision/transforms/transforms.py:137\u001b[0m, in \u001b[0;36mToTensor.__call__\u001b[0;34m(self, pic)\u001b[0m\n\u001b[1;32m    129\u001b[0m \u001b[39mdef\u001b[39;00m \u001b[39m__call__\u001b[39m(\u001b[39mself\u001b[39m, pic):\n\u001b[1;32m    130\u001b[0m \u001b[39m    \u001b[39m\u001b[39m\"\"\"\u001b[39;00m\n\u001b[1;32m    131\u001b[0m \u001b[39m    Args:\u001b[39;00m\n\u001b[1;32m    132\u001b[0m \u001b[39m        pic (PIL Image or numpy.ndarray): Image to be converted to tensor.\u001b[39;00m\n\u001b[0;32m   (...)\u001b[0m\n\u001b[1;32m    135\u001b[0m \u001b[39m        Tensor: Converted image.\u001b[39;00m\n\u001b[1;32m    136\u001b[0m \u001b[39m    \"\"\"\u001b[39;00m\n\u001b[0;32m--> 137\u001b[0m     \u001b[39mreturn\u001b[39;00m F\u001b[39m.\u001b[39;49mto_tensor(pic)\n",
      "File \u001b[0;32m~/anaconda3/envs/graph/lib/python3.8/site-packages/torchvision/transforms/functional.py:174\u001b[0m, in \u001b[0;36mto_tensor\u001b[0;34m(pic)\u001b[0m\n\u001b[1;32m    172\u001b[0m img \u001b[39m=\u001b[39m img\u001b[39m.\u001b[39mpermute((\u001b[39m2\u001b[39m, \u001b[39m0\u001b[39m, \u001b[39m1\u001b[39m))\u001b[39m.\u001b[39mcontiguous()\n\u001b[1;32m    173\u001b[0m \u001b[39mif\u001b[39;00m \u001b[39misinstance\u001b[39m(img, torch\u001b[39m.\u001b[39mByteTensor):\n\u001b[0;32m--> 174\u001b[0m     \u001b[39mreturn\u001b[39;00m img\u001b[39m.\u001b[39;49mto(dtype\u001b[39m=\u001b[39;49mdefault_float_dtype)\u001b[39m.\u001b[39mdiv(\u001b[39m255\u001b[39m)\n\u001b[1;32m    175\u001b[0m \u001b[39melse\u001b[39;00m:\n\u001b[1;32m    176\u001b[0m     \u001b[39mreturn\u001b[39;00m img\n",
      "\u001b[0;31mKeyboardInterrupt\u001b[0m: "
     ]
    }
   ],
   "source": [
    "# Initialize tracking for best validation accuracy\n",
    "best_val_accuracy = 0.0\n",
    "task_names = [\"MNIST\", \"FashionMNIST\", \"KMNIST\"]\n",
    "original_task_ids = list(range(len(train_loaders)))\n",
    "sorted_task_ids = list(range(len(train_loaders)))\n",
    "\n",
    "\n",
    "BEST=[0,0,0]\n",
    "\n",
    "\n",
    "# Initialize list to accumulate metrics for each epoch and task\n",
    "metrics_list = [[] for _ in range(len(task_names))]\n",
    "\n",
    "# Training loop\n",
    "for epoch in range(epochs):\n",
    "    task_losses = {task_id: 0.0 for task_id in original_task_ids}\n",
    "    pro_per = {task_id: 0.0 for task_id in original_task_ids}\n",
    "    VAL=[]\n",
    "    \n",
    "    for task_id in sorted_task_ids:\n",
    "\n",
    "        \n",
    "        dataloader=train_loaders[task_id]\n",
    "        val_loader=val_loaders[task_id]\n",
    "        model.train()\n",
    "        total_loss = 0.0\n",
    "        \n",
    "        for inputs, targets in dataloader:\n",
    "            inputs, targets = inputs.to(device), targets.to(device)\n",
    "\n",
    "            optimizer.zero_grad()\n",
    "\n",
    "            # Forward pass\n",
    "            outputs = model(inputs, task_id)\n",
    "            loss = criterion(outputs, targets)\n",
    "\n",
    "            # Backward pass\n",
    "            loss.backward()\n",
    "\n",
    "            # Update parameters\n",
    "            optimizer.step(task_id, epoch)\n",
    "\n",
    "            total_loss += loss.item()\n",
    "\n",
    "        # Store average loss for each task\n",
    "        task_losses[task_id] = total_loss / len(dataloader)\n",
    "        task_related_percent, protected_percent, unclaimed_percent = optimizer.calculate_percentages(task_id) \n",
    "        pro_per[task_id]=protected_percent\n",
    "        val_acc,val_loss = evaluate_model_task(model, val_loader,criterion,task_id) \n",
    "        \n",
    "        if val_acc>BEST[task_id]:\n",
    "           BEST[task_id]=val_acc\n",
    "           torch.save(model, './trained_models/Prop_MOE_'+task_names[task_id]) \n",
    "             \n",
    "        print(f\"Epoch [{epoch+1}/{epochs}], Task Name [{task_names[task_id]}], Loss: {task_losses[task_id]:.3f} Val ACC: {val_acc:.2f} Task-related: {task_related_percent:.2f}%, Protected: {protected_percent:.2f}%, Unclaimed: {unclaimed_percent:.2f}%\")\n",
    "      \n",
    "    \n",
    "        \n",
    "        \n",
    "        metrics_list[task_id].append({\n",
    "            'Epoch': epoch + 1,\n",
    "            'Task': task_names[task_id],\n",
    "            'Training Loss': task_losses[task_id],\n",
    "            'Validation Loss': val_loss,\n",
    "            'Validation Accuracy': val_acc,\n",
    "            'Task-related %': task_related_percent,\n",
    "            'Protected %': protected_percent,\n",
    "            'Unclaimed %': unclaimed_percent\n",
    "        })\n",
    "    \n",
    "    # Validation step\n",
    "    print('-----------------------------------')\n",
    "    avg_val_accuracy=evaluate_model_avg(model, val_loaders,sorted_task_ids)\n",
    "    \n",
    "\n",
    "    # Save the best model based on validation accuracy\n",
    "    if avg_val_accuracy > best_val_accuracy:\n",
    "        best_val_accuracy = avg_val_accuracy\n",
    "        torch.save(model,'./trained_models/Prop_MOE_global')\n",
    "\n",
    "\n",
    "    print('=================================')   \n",
    "    if epoch%10==0:\n",
    "       sorted_task_ids = update_task_priority(list(task_losses.values()))\n",
    "       print(sorted_task_ids)\n",
    "    print('=================================')   \n"
   ]
  },
  {
   "cell_type": "code",
   "execution_count": null,
   "metadata": {},
   "outputs": [],
   "source": [
    "sorted_task_ids = list(range(len(train_loaders)))\n",
    "model=torch.load('./trained_models/Prop_MOE_global')\n",
    "avg_accuracy=evaluate_model_avg(model, test_loaders,sorted_task_ids)\n",
    "print(avg_accuracy)"
   ]
  },
  {
   "cell_type": "code",
   "execution_count": null,
   "metadata": {},
   "outputs": [],
   "source": [
    "model=torch.load('./trained_models/Prop_MOE_MNIST')\n",
    "val_acc,val_loss = evaluate_model_task(model, test_loaders[0],criterion,0)\n",
    "print(val_acc) "
   ]
  },
  {
   "cell_type": "code",
   "execution_count": null,
   "metadata": {},
   "outputs": [],
   "source": [
    "model=torch.load('./trained_models/Prop_MOE_FashionMNIST')\n",
    "val_acc,val_loss = evaluate_model_task(model, test_loaders[1],criterion,1)\n",
    "print(val_acc) "
   ]
  },
  {
   "cell_type": "code",
   "execution_count": null,
   "metadata": {},
   "outputs": [],
   "source": [
    "model=torch.load('./trained_models/Prop_MOE_KMNIST')\n",
    "val_acc,val_loss = evaluate_model_task(model, test_loaders[2],criterion,2)\n",
    "print(val_acc) "
   ]
  }
 ],
 "metadata": {
  "kernelspec": {
   "display_name": "Python 3",
   "language": "python",
   "name": "python3"
  },
  "language_info": {
   "codemirror_mode": {
    "name": "ipython",
    "version": 3
   },
   "file_extension": ".py",
   "mimetype": "text/x-python",
   "name": "python",
   "nbconvert_exporter": "python",
   "pygments_lexer": "ipython3",
   "version": "3.8.17"
  },
  "orig_nbformat": 4
 },
 "nbformat": 4,
 "nbformat_minor": 2
}
