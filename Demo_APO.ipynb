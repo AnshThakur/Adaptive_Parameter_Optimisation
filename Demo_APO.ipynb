{
 "cells": [
  {
   "cell_type": "code",
   "execution_count": null,
   "metadata": {},
   "outputs": [],
   "source": [
    "import torch\n",
    "from models import MultiTaskCNN\n",
    "from optimisers_APO import AdaptiveProtectiveOptimizer\n",
    "from utils import *\n",
    "import random\n",
    "import numpy as np\n",
    "import pandas as pd\n",
    "import copy \n",
    "\n",
    "random.seed(20)\n",
    "torch.manual_seed(20)\n",
    "np.random.seed(20)"
   ]
  },
  {
   "cell_type": "code",
   "execution_count": null,
   "metadata": {},
   "outputs": [],
   "source": [
    "# Hyperparameters\n",
    "batch_size = 256\n",
    "epochs = 5\n",
    "device = torch.device('cuda' if torch.cuda.is_available() else 'cpu')"
   ]
  },
  {
   "cell_type": "code",
   "execution_count": null,
   "metadata": {},
   "outputs": [],
   "source": [
    "# Load datasets\n",
    "train_loaders, val_loaders, test_loaders = get_all_loaders(batch_size=batch_size)"
   ]
  },
  {
   "cell_type": "code",
   "execution_count": null,
   "metadata": {},
   "outputs": [],
   "source": [
    "# Initialize model\n",
    "output_sizes = [10, 10,10]  # MNIST, KMNIST and Fashion-MNIST, all have 10 classes\n",
    "model = MultiTaskCNN(output_sizes).to(device)\n",
    "task_specific_layer_names = [\"task_layers.0.weight\", \"task_layers.0.bias\",\n",
    "                             \"task_layers.1.weight\", \"task_layers.1.bias\", \n",
    "                             \"task_layers.2.weight\", \"task_layers.2.bias\"]\n",
    "\n",
    "num_tasks=3\n",
    "# Initialize the optimizer, passing in the model and the task-specific layer names\n",
    "optimizer = AdaptiveProtectiveOptimizer(model, task_specific_layer_names, num_tasks, lr=0.01)\n",
    "criterion = torch.nn.CrossEntropyLoss()"
   ]
  },
  {
   "cell_type": "code",
   "execution_count": null,
   "metadata": {},
   "outputs": [],
   "source": [
    "def update_task_priority(task_losses):\n",
    "    sorted_tasks = sorted(range(len(task_losses)), key=lambda k: task_losses[k], reverse=True)\n",
    "    return sorted_tasks"
   ]
  },
  {
   "cell_type": "code",
   "execution_count": null,
   "metadata": {},
   "outputs": [],
   "source": [
    "def validate_model(model, val_loaders):\n",
    "    model.eval()\n",
    "    total_correct = {task_id: 0 for task_id in range(len(val_loaders))}\n",
    "    total_samples = {task_id: 0 for task_id in range(len(val_loaders))}\n",
    "    \n",
    "    with torch.no_grad():\n",
    "        for task_id, dataloader in enumerate(val_loaders):\n",
    "            for inputs, targets in dataloader:\n",
    "                inputs, targets = inputs.to(device), targets.to(device)\n",
    "                outputs = model(inputs, task_id)\n",
    "                _, preds = torch.max(outputs, 1)\n",
    "                total_correct[task_id] += (preds == targets).sum().item()\n",
    "                total_samples[task_id] += targets.size(0)\n",
    "\n",
    "    val_accuracies = {task_id: (100 * total_correct[task_id] / total_samples[task_id])\n",
    "                      for task_id in total_correct}\n",
    "    return val_accuracies"
   ]
  },
  {
   "cell_type": "code",
   "execution_count": null,
   "metadata": {},
   "outputs": [],
   "source": [
    "# Initialize tracking for best validation accuracy\n",
    "best_val_accuracy = 0.0\n",
    "task_names = [\"MNIST\", \"FashionMNIST\", \"KMNIST\"]\n",
    "original_task_ids = list(range(len(train_loaders)))\n",
    "sorted_task_ids = list(range(len(train_loaders)))\n",
    "\n",
    "\n",
    "BEST=[0,0,0]\n",
    "\n",
    "\n",
    "# Initialize list to accumulate metrics for each epoch and task\n",
    "metrics_list = [[] for _ in range(len(task_names))]\n",
    "\n",
    "# Training loop\n",
    "for epoch in range(epochs):\n",
    "    task_losses = {task_id: 0.0 for task_id in original_task_ids}\n",
    "    pro_per = {task_id: 0.0 for task_id in original_task_ids}\n",
    "    VAL=[]\n",
    "    \n",
    "    for task_id in sorted_task_ids:\n",
    "\n",
    "        \n",
    "        dataloader=train_loaders[task_id]\n",
    "        val_loader=val_loaders[task_id]\n",
    "        model.train()\n",
    "        total_loss = 0.0\n",
    "        \n",
    "        for inputs, targets in dataloader:\n",
    "            inputs, targets = inputs.to(device), targets.to(device)\n",
    "\n",
    "            optimizer.zero_grad()\n",
    "\n",
    "            # Forward pass\n",
    "            outputs = model(inputs, task_id)\n",
    "            loss = criterion(outputs, targets)\n",
    "\n",
    "            # Backward pass\n",
    "            loss.backward()\n",
    "\n",
    "            # Update parameters\n",
    "            optimizer.step(task_id, epoch)\n",
    "\n",
    "            total_loss += loss.item()\n",
    "\n",
    "        # Store average loss for each task\n",
    "        task_losses[task_id] = total_loss / len(dataloader)\n",
    "        task_related_percent, protected_percent, unclaimed_percent = optimizer.calculate_percentages(task_id) \n",
    "        pro_per[task_id]=protected_percent\n",
    "        val_acc,val_loss = evaluate_model_task(model, val_loader,criterion,task_id) \n",
    "        \n",
    "        if val_acc>BEST[task_id]:\n",
    "           BEST[task_id]=val_acc\n",
    "           torch.save(model, './trained_models/Prop_'+task_names[task_id]) \n",
    "             \n",
    "        print(f\"Epoch [{epoch+1}/{epochs}], Task Name [{task_names[task_id]}], Loss: {task_losses[task_id]:.3f} Val ACC: {val_acc:.2f} Task-related: {task_related_percent:.2f}%, Protected: {protected_percent:.2f}%, Unclaimed: {unclaimed_percent:.2f}%\")\n",
    "      \n",
    "    \n",
    "        \n",
    "        \n",
    "        metrics_list[task_id].append({\n",
    "            'Epoch': epoch + 1,\n",
    "            'Task': task_names[task_id],\n",
    "            'Training Loss': task_losses[task_id],\n",
    "            'Validation Loss': val_loss,\n",
    "            'Validation Accuracy': val_acc,\n",
    "            'Task-related %': task_related_percent,\n",
    "            'Protected %': protected_percent,\n",
    "            'Unclaimed %': unclaimed_percent\n",
    "        })\n",
    "    \n",
    "    # Validation step\n",
    "    print('-----------------------------------')\n",
    "    avg_val_accuracy=evaluate_model_avg(model, val_loaders,sorted_task_ids)\n",
    "    \n",
    "\n",
    "    # Save the best model based on validation accuracy\n",
    "    if avg_val_accuracy > best_val_accuracy:\n",
    "        best_val_accuracy = avg_val_accuracy\n",
    "        torch.save(model,'./trained_models/Prop_global')\n",
    "\n",
    "\n",
    "    print('=================================')   \n",
    "    if epoch%10==0:\n",
    "       sorted_task_ids = update_task_priority(list(task_losses.values()))\n",
    "       print(sorted_task_ids)\n",
    "    print('=================================')   \n"
   ]
  },
  {
   "cell_type": "code",
   "execution_count": null,
   "metadata": {},
   "outputs": [],
   "source": [
    "model=torch.load('./trained_models/Prop_global')\n",
    "avg_accuracy=evaluate_model_avg(model, test_loaders,sorted_task_ids)\n",
    "print(avg_accuracy)"
   ]
  },
  {
   "cell_type": "code",
   "execution_count": null,
   "metadata": {},
   "outputs": [],
   "source": [
    "model=torch.load('./trained_models/Prop_MNIST')\n",
    "val_acc,val_loss = evaluate_model_task(model, test_loaders[0],criterion,0)\n",
    "print(val_acc) "
   ]
  },
  {
   "cell_type": "code",
   "execution_count": null,
   "metadata": {},
   "outputs": [],
   "source": [
    "model=torch.load('./trained_models/Prop_FashionMNIST')\n",
    "val_acc,val_loss = evaluate_model_task(model, test_loaders[1],criterion,1)\n",
    "print(val_acc) "
   ]
  },
  {
   "cell_type": "code",
   "execution_count": null,
   "metadata": {},
   "outputs": [],
   "source": [
    "model=torch.load('./trained_models/Prop_KMNIST')\n",
    "val_acc,val_loss = evaluate_model_task(model, test_loaders[2],criterion,2)\n",
    "print(val_acc) "
   ]
  }
 ],
 "metadata": {
  "kernelspec": {
   "display_name": "Python 3",
   "language": "python",
   "name": "python3"
  },
  "language_info": {
   "codemirror_mode": {
    "name": "ipython",
    "version": 3
   },
   "file_extension": ".py",
   "mimetype": "text/x-python",
   "name": "python",
   "nbconvert_exporter": "python",
   "pygments_lexer": "ipython3",
   "version": "3.8.17"
  },
  "orig_nbformat": 4
 },
 "nbformat": 4,
 "nbformat_minor": 2
}
